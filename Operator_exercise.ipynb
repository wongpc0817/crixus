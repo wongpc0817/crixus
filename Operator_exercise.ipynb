{
  "nbformat": 4,
  "nbformat_minor": 0,
  "metadata": {
    "colab": {
      "provenance": [],
      "authorship_tag": "ABX9TyO5KLm2JqqjG2uAw9EHLXbI",
      "include_colab_link": true
    },
    "kernelspec": {
      "name": "python3",
      "display_name": "Python 3"
    },
    "language_info": {
      "name": "python"
    }
  },
  "cells": [
    {
      "cell_type": "markdown",
      "metadata": {
        "id": "view-in-github",
        "colab_type": "text"
      },
      "source": [
        "<a href=\"https://colab.research.google.com/github/wongpc0817/crixus/blob/main/Operator_exercise.ipynb\" target=\"_parent\"><img src=\"https://colab.research.google.com/assets/colab-badge.svg\" alt=\"Open In Colab\"/></a>"
      ]
    },
    {
      "cell_type": "markdown",
      "source": [
        "Run the following code block first."
      ],
      "metadata": {
        "id": "PnxaXbpewBKW"
      }
    },
    {
      "cell_type": "code",
      "source": [
        "import math\n",
        "import matplotlib.pyplot as plt\n",
        "import numpy as np"
      ],
      "metadata": {
        "id": "mjV9y3EwwAiB"
      },
      "execution_count": null,
      "outputs": []
    },
    {
      "cell_type": "markdown",
      "source": [
        "## Exercise 1:\n",
        "\n",
        "In the following block, it is called a `function` (different fromt the functions we learnt in Math). We input some numbers and expects it to do something.\n",
        "\n",
        "In our example, the function `projectile_motion` expects two inputs `v0` and `theta` and we would like it to output two numbers `x` and `y`:\n",
        "\n",
        "  $x = v_0 \\cos(\\theta)*t$\n",
        "\n",
        "  $y = v_0 \\sin(\\theta)*t - \\frac{1}{2}gt^2$\n",
        "\n",
        "\n",
        "Your task is to do the following:\n",
        "1. In the `get_x` function, calculate the value of `x` after the word `return`.\n",
        "2. In the `get_y` function, calculate the value of `y` after the word `return`.\n",
        "3. In the `projectile_motion`, declare a variable called `g` to be valued `9.81` (this is the gravitational constant)\n",
        "\n",
        "\n",
        "Hint: you should use `math.cos` to call the cosine function. (e.g.\n",
        "to calculate $cos(60)$,\n",
        "you should type `math.cos(60)`.)"
      ],
      "metadata": {
        "id": "atJEFCUnrk6X"
      }
    },
    {
      "cell_type": "code",
      "source": [
        "def get_x(v0, theta, t):\n",
        "  ###### You should use `math.cos()` for the cosine function.\n",
        "  return                      ## Write your answer after the word 'return'.\n",
        "\n",
        "def get_y(v0, theta, t):\n",
        "  ###### You should use `math.sin()` for the sine function.\n",
        "  return                      ## Write your answer after the word 'return'.\n",
        "\n",
        "def projectile_motion(v0, theta):\n",
        "    theta = math.radians(theta)\n",
        "    ##########################################\n",
        "    ## Declare the value of `g` here.\n",
        "\n",
        "\n",
        "\n",
        "    ##########################################\n",
        "    t_flight = 2 * v0 * math.sin(theta) / g\n",
        "    t = [i * t_flight / 100 for i in range(101)]\n",
        "    x = [get_x(v0, theta, ti) for ti in t]\n",
        "    y = [get_y(v0, theta, ti) for ti in t]\n",
        "\n",
        "    return x, y"
      ],
      "metadata": {
        "id": "MEVx3g2rwE9o"
      },
      "execution_count": null,
      "outputs": []
    },
    {
      "cell_type": "markdown",
      "source": [
        "With the above codes, you can now run the next code block and see the trajectory of a given initial velocity (`v0`) and a certain angle (`theta`)."
      ],
      "metadata": {
        "id": "b7tMAs2_yE3P"
      }
    },
    {
      "cell_type": "code",
      "execution_count": null,
      "metadata": {
        "id": "jF4M82NOrFso"
      },
      "outputs": [],
      "source": [
        "v0 = float(input(\"Enter the initial velocity (m/s): \"))\n",
        "theta = float(input(\"Enter the launch angle (degrees): \"))\n",
        "\n",
        "x, y = projectile_motion(v0, theta)\n",
        "\n",
        "plt.figure()\n",
        "plt.plot(x, y)\n",
        "plt.title(\"Projectile Motion\")\n",
        "plt.xlabel(\"Distance (m)\")\n",
        "plt.ylabel(\"Height (m)\")\n",
        "plt.grid(True)\n",
        "plt.show()\n"
      ]
    },
    {
      "cell_type": "markdown",
      "source": [
        "Does it look familiar? The shape indeed a <b>PARABOLA</b> !!\n",
        "\n",
        "Just a recap, a parabola usually follows the form:\n",
        "$$y = a(x-h)^2+k$$\n",
        "where $(h,k)$ is the coordinate of the vertex."
      ],
      "metadata": {
        "id": "GT93SPwMz3_l"
      }
    },
    {
      "cell_type": "markdown",
      "source": [
        "## Exercise 2:\n",
        "\n",
        "1. Declare the respect variables `a`, `h` and `k`.\n",
        "2. Define the values of `y`.\n",
        "\n",
        "Look at the graph."
      ],
      "metadata": {
        "id": "21JHx66ByUCC"
      }
    },
    {
      "cell_type": "code",
      "source": [
        "x = np.linspace(-20,20,50)\n",
        "###############################\n",
        "### Write your answer here.\n",
        "\n",
        "\n",
        "\n",
        "\n",
        "\n",
        "\n",
        "###############################\n",
        "fig, ax = plt.subplots(figsize=(8,6))\n",
        "ax.plot(x,y)\n",
        "plt.grid(True)\n",
        "plt.show()"
      ],
      "metadata": {
        "id": "quNEuy7l01lO"
      },
      "execution_count": null,
      "outputs": []
    },
    {
      "cell_type": "markdown",
      "source": [
        "Finally, copy the answer for exercise 2 in the following block.\n",
        "\n",
        "\n",
        "By trying different values of `a`, `h` and `k`,\n",
        "which combinations fit the given parabola?\n",
        "\n"
      ],
      "metadata": {
        "id": "JipqyyJh4gCc"
      }
    },
    {
      "cell_type": "code",
      "source": [
        "x = np.linspace(-5,5,30)\n",
        "###############################\n",
        "### Write your answer here.\n",
        "\n",
        "\n",
        "# ###############################\n",
        "fig, ax = plt.subplots(figsize=(8,6))\n",
        "given_y = np.load('data/operator_exercise/given_parabola.npy')\n",
        "ax.plot(x, given_y, color='k', linestyle='-.')\n",
        "ax.plot(x, y, color='b')\n",
        "plt.legend(['The given parabola', 'Your attempt'])\n",
        "plt.grid(True)\n",
        "plt.xlim([-6,6])\n",
        "plt.show()"
      ],
      "metadata": {
        "id": "VMovq4wW4w1u"
      },
      "execution_count": null,
      "outputs": []
    },
    {
      "cell_type": "code",
      "source": [
        "y\n"
      ],
      "metadata": {
        "id": "zc-W_Ru26acR"
      },
      "execution_count": null,
      "outputs": []
    }
  ]
}